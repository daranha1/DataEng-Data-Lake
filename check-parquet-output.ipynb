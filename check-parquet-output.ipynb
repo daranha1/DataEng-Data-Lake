{
 "cells": [
  {
   "cell_type": "code",
   "execution_count": 1,
   "metadata": {
    "editable": true
   },
   "outputs": [],
   "source": [
    "import configparser\n",
    "import os\n",
    "import pandas as pd\n",
    "from pyspark.sql import SparkSession\n",
    "from pyspark.sql import SQLContext\n",
    "from pyspark.sql.functions import udf, col"
   ]
  },
  {
   "cell_type": "code",
   "execution_count": 2,
   "metadata": {
    "editable": true
   },
   "outputs": [
    {
     "data": {
      "text/plain": [
       "['dl.cfg']"
      ]
     },
     "execution_count": 2,
     "metadata": {},
     "output_type": "execute_result"
    }
   ],
   "source": [
    "config = configparser.ConfigParser()\n",
    "config.read('dl.cfg')"
   ]
  },
  {
   "cell_type": "code",
   "execution_count": 3,
   "metadata": {
    "editable": true
   },
   "outputs": [],
   "source": [
    "os.environ['AWS_ACCESS_KEY_ID']=config.get('AWS','AWS_ACCESS_KEY_ID')\n",
    "os.environ['AWS_SECRET_ACCESS_KEY']=config.get('AWS','AWS_SECRET_ACCESS_KEY')\n",
    "os.environ['AWS_REGION']=config.get('AWS','REGION')"
   ]
  },
  {
   "cell_type": "code",
   "execution_count": 4,
   "metadata": {
    "editable": true
   },
   "outputs": [],
   "source": [
    "spark = SparkSession \\\n",
    "        .builder \\\n",
    "        .config(\"spark.jars.packages\", \"org.apache.hadoop:hadoop-aws:2.7.0\") \\\n",
    "        .getOrCreate() "
   ]
  },
  {
   "cell_type": "code",
   "execution_count": 5,
   "metadata": {
    "editable": true
   },
   "outputs": [
    {
     "name": "stdout",
     "output_type": "stream",
     "text": [
      "output_data : data/output/\n",
      "Number of song rows : 2\n"
     ]
    },
    {
     "data": {
      "text/html": [
       "<div>\n",
       "<style scoped>\n",
       "    .dataframe tbody tr th:only-of-type {\n",
       "        vertical-align: middle;\n",
       "    }\n",
       "\n",
       "    .dataframe tbody tr th {\n",
       "        vertical-align: top;\n",
       "    }\n",
       "\n",
       "    .dataframe thead th {\n",
       "        text-align: right;\n",
       "    }\n",
       "</style>\n",
       "<table border=\"1\" class=\"dataframe\">\n",
       "  <thead>\n",
       "    <tr style=\"text-align: right;\">\n",
       "      <th></th>\n",
       "      <th>song_id</th>\n",
       "      <th>title</th>\n",
       "      <th>duration</th>\n",
       "    </tr>\n",
       "  </thead>\n",
       "  <tbody>\n",
       "    <tr>\n",
       "      <th>0</th>\n",
       "      <td>SOFFKZS12AB017F194</td>\n",
       "      <td>A Higher Place (Album Version)</td>\n",
       "      <td>236.17261</td>\n",
       "    </tr>\n",
       "    <tr>\n",
       "      <th>1</th>\n",
       "      <td>SONWXQJ12A8C134D94</td>\n",
       "      <td>The Ballad Of Sleeping Beauty</td>\n",
       "      <td>305.16200</td>\n",
       "    </tr>\n",
       "  </tbody>\n",
       "</table>\n",
       "</div>"
      ],
      "text/plain": [
       "              song_id                           title   duration\n",
       "0  SOFFKZS12AB017F194  A Higher Place (Album Version)  236.17261\n",
       "1  SONWXQJ12A8C134D94   The Ballad Of Sleeping Beauty  305.16200"
      ]
     },
     "execution_count": 5,
     "metadata": {},
     "output_type": "execute_result"
    }
   ],
   "source": [
    "# read song data file\n",
    "output_data = config.get('LOCAL_DATA', 'OUTPUT')\n",
    "print('output_data : ' + output_data)\n",
    "\n",
    "# read songs for 1994\n",
    "song_data_df = spark.read.parquet(os.path.join(output_data, 'songs/year=1994/artist_id=*/*.parquet'))\n",
    "\n",
    "print ('Number of song rows : ' + str(song_data_df.count()))\n",
    "\n",
    "song_data_df.limit(5).toPandas()"
   ]
  },
  {
   "cell_type": "code",
   "execution_count": 6,
   "metadata": {
    "editable": true
   },
   "outputs": [
    {
     "name": "stdout",
     "output_type": "stream",
     "text": [
      "Number of song rows : 71\n"
     ]
    },
    {
     "data": {
      "text/html": [
       "<div>\n",
       "<style scoped>\n",
       "    .dataframe tbody tr th:only-of-type {\n",
       "        vertical-align: middle;\n",
       "    }\n",
       "\n",
       "    .dataframe tbody tr th {\n",
       "        vertical-align: top;\n",
       "    }\n",
       "\n",
       "    .dataframe thead th {\n",
       "        text-align: right;\n",
       "    }\n",
       "</style>\n",
       "<table border=\"1\" class=\"dataframe\">\n",
       "  <thead>\n",
       "    <tr style=\"text-align: right;\">\n",
       "      <th></th>\n",
       "      <th>song_id</th>\n",
       "      <th>title</th>\n",
       "      <th>duration</th>\n",
       "      <th>year</th>\n",
       "      <th>artist_id</th>\n",
       "    </tr>\n",
       "  </thead>\n",
       "  <tbody>\n",
       "    <tr>\n",
       "      <th>0</th>\n",
       "      <td>SOAOIBZ12AB01815BE</td>\n",
       "      <td>I Hold Your Hand In Mine [Live At Royal Albert...</td>\n",
       "      <td>43.36281</td>\n",
       "      <td>2000</td>\n",
       "      <td>ARPBNLO1187FB3D52F</td>\n",
       "    </tr>\n",
       "    <tr>\n",
       "      <th>1</th>\n",
       "      <td>SOBAYLL12A8C138AF9</td>\n",
       "      <td>Sono andati? Fingevo di dormire</td>\n",
       "      <td>511.16363</td>\n",
       "      <td>0</td>\n",
       "      <td>ARDR4AC1187FB371A1</td>\n",
       "    </tr>\n",
       "    <tr>\n",
       "      <th>2</th>\n",
       "      <td>SOBBUGU12A8C13E95D</td>\n",
       "      <td>Setting Fire to Sleeping Giants</td>\n",
       "      <td>207.77751</td>\n",
       "      <td>2004</td>\n",
       "      <td>ARMAC4T1187FB3FA4C</td>\n",
       "    </tr>\n",
       "    <tr>\n",
       "      <th>3</th>\n",
       "      <td>SODREIN12A58A7F2E5</td>\n",
       "      <td>A Whiter Shade Of Pale (Live @ Fillmore West)</td>\n",
       "      <td>326.00771</td>\n",
       "      <td>0</td>\n",
       "      <td>ARLTWXK1187FB5A3F8</td>\n",
       "    </tr>\n",
       "    <tr>\n",
       "      <th>4</th>\n",
       "      <td>SONYPOM12A8C13B2D7</td>\n",
       "      <td>I Think My Wife Is Running Around On Me (Taco ...</td>\n",
       "      <td>186.48771</td>\n",
       "      <td>2005</td>\n",
       "      <td>ARDNS031187B9924F0</td>\n",
       "    </tr>\n",
       "    <tr>\n",
       "      <th>5</th>\n",
       "      <td>SOOLYAZ12A6701F4A6</td>\n",
       "      <td>Laws Patrolling (Album Version)</td>\n",
       "      <td>173.66159</td>\n",
       "      <td>0</td>\n",
       "      <td>AREBBGV1187FB523D2</td>\n",
       "    </tr>\n",
       "    <tr>\n",
       "      <th>6</th>\n",
       "      <td>SOPEGZN12AB0181B3D</td>\n",
       "      <td>Get Your Head Stuck On Your Neck</td>\n",
       "      <td>45.66159</td>\n",
       "      <td>0</td>\n",
       "      <td>AREDL271187FB40F44</td>\n",
       "    </tr>\n",
       "    <tr>\n",
       "      <th>7</th>\n",
       "      <td>SOUDSGM12AC9618304</td>\n",
       "      <td>Insatiable (Instrumental Version)</td>\n",
       "      <td>266.39628</td>\n",
       "      <td>0</td>\n",
       "      <td>ARNTLGG11E2835DDB9</td>\n",
       "    </tr>\n",
       "    <tr>\n",
       "      <th>8</th>\n",
       "      <td>SOWQTQZ12A58A7B63E</td>\n",
       "      <td>Streets On Fire (Explicit Album Version)</td>\n",
       "      <td>279.97995</td>\n",
       "      <td>0</td>\n",
       "      <td>ARPFHN61187FB575F6</td>\n",
       "    </tr>\n",
       "    <tr>\n",
       "      <th>9</th>\n",
       "      <td>SOYMRWW12A6D4FAB14</td>\n",
       "      <td>The Moon And I (Ordinary Day Album Version)</td>\n",
       "      <td>267.70240</td>\n",
       "      <td>0</td>\n",
       "      <td>ARKFYS91187B98E58F</td>\n",
       "    </tr>\n",
       "  </tbody>\n",
       "</table>\n",
       "</div>"
      ],
      "text/plain": [
       "              song_id                                              title  \\\n",
       "0  SOAOIBZ12AB01815BE  I Hold Your Hand In Mine [Live At Royal Albert...   \n",
       "1  SOBAYLL12A8C138AF9                    Sono andati? Fingevo di dormire   \n",
       "2  SOBBUGU12A8C13E95D                    Setting Fire to Sleeping Giants   \n",
       "3  SODREIN12A58A7F2E5      A Whiter Shade Of Pale (Live @ Fillmore West)   \n",
       "4  SONYPOM12A8C13B2D7  I Think My Wife Is Running Around On Me (Taco ...   \n",
       "5  SOOLYAZ12A6701F4A6                    Laws Patrolling (Album Version)   \n",
       "6  SOPEGZN12AB0181B3D                   Get Your Head Stuck On Your Neck   \n",
       "7  SOUDSGM12AC9618304                  Insatiable (Instrumental Version)   \n",
       "8  SOWQTQZ12A58A7B63E           Streets On Fire (Explicit Album Version)   \n",
       "9  SOYMRWW12A6D4FAB14        The Moon And I (Ordinary Day Album Version)   \n",
       "\n",
       "    duration  year           artist_id  \n",
       "0   43.36281  2000  ARPBNLO1187FB3D52F  \n",
       "1  511.16363     0  ARDR4AC1187FB371A1  \n",
       "2  207.77751  2004  ARMAC4T1187FB3FA4C  \n",
       "3  326.00771     0  ARLTWXK1187FB5A3F8  \n",
       "4  186.48771  2005  ARDNS031187B9924F0  \n",
       "5  173.66159     0  AREBBGV1187FB523D2  \n",
       "6   45.66159     0  AREDL271187FB40F44  \n",
       "7  266.39628     0  ARNTLGG11E2835DDB9  \n",
       "8  279.97995     0  ARPFHN61187FB575F6  \n",
       "9  267.70240     0  ARKFYS91187B98E58F  "
      ]
     },
     "execution_count": 6,
     "metadata": {},
     "output_type": "execute_result"
    }
   ],
   "source": [
    "song_data_df = spark.read.parquet(os.path.join(output_data, 'songs'))\n",
    "print ('Number of song rows : ' + str(song_data_df.count()))\n",
    "\n",
    "# display all columns of songs\n",
    "song_data_df.limit(10).orderBy('song_id').toPandas()                                 "
   ]
  },
  {
   "cell_type": "code",
   "execution_count": 7,
   "metadata": {
    "editable": true
   },
   "outputs": [
    {
     "name": "stdout",
     "output_type": "stream",
     "text": [
      "output_data : data/output/\n",
      "Number of songPlays Table rows : 4\n"
     ]
    },
    {
     "data": {
      "text/html": [
       "<div>\n",
       "<style scoped>\n",
       "    .dataframe tbody tr th:only-of-type {\n",
       "        vertical-align: middle;\n",
       "    }\n",
       "\n",
       "    .dataframe tbody tr th {\n",
       "        vertical-align: top;\n",
       "    }\n",
       "\n",
       "    .dataframe thead th {\n",
       "        text-align: right;\n",
       "    }\n",
       "</style>\n",
       "<table border=\"1\" class=\"dataframe\">\n",
       "  <thead>\n",
       "    <tr style=\"text-align: right;\">\n",
       "      <th></th>\n",
       "      <th>songplay_id</th>\n",
       "      <th>start_time</th>\n",
       "      <th>user_id</th>\n",
       "      <th>level</th>\n",
       "      <th>song_id</th>\n",
       "      <th>artist_id</th>\n",
       "      <th>session_id</th>\n",
       "      <th>location</th>\n",
       "      <th>user_agent</th>\n",
       "    </tr>\n",
       "  </thead>\n",
       "  <tbody>\n",
       "    <tr>\n",
       "      <th>0</th>\n",
       "      <td>403726925824</td>\n",
       "      <td>2018-11-21 21:56:47.796</td>\n",
       "      <td>15</td>\n",
       "      <td>paid</td>\n",
       "      <td>SOZCTXZ12AB0182364</td>\n",
       "      <td>AR5KOSW1187FB35FF4</td>\n",
       "      <td>818</td>\n",
       "      <td>Chicago-Naperville-Elgin, IL-IN-WI</td>\n",
       "      <td>\"Mozilla/5.0 (X11; Linux x86_64) AppleWebKit/5...</td>\n",
       "    </tr>\n",
       "    <tr>\n",
       "      <th>1</th>\n",
       "      <td>128849018880</td>\n",
       "      <td>2018-11-14 05:06:03.796</td>\n",
       "      <td>10</td>\n",
       "      <td>free</td>\n",
       "      <td>SOGDBUF12A8C140FAA</td>\n",
       "      <td>AR558FS1187FB45658</td>\n",
       "      <td>484</td>\n",
       "      <td>Washington-Arlington-Alexandria, DC-VA-MD-WV</td>\n",
       "      <td>\"Mozilla/5.0 (Macintosh; Intel Mac OS X 10_9_4...</td>\n",
       "    </tr>\n",
       "    <tr>\n",
       "      <th>2</th>\n",
       "      <td>1529008357376</td>\n",
       "      <td>2018-11-27 22:35:59.796</td>\n",
       "      <td>80</td>\n",
       "      <td>paid</td>\n",
       "      <td>SOGDBUF12A8C140FAA</td>\n",
       "      <td>AR558FS1187FB45658</td>\n",
       "      <td>992</td>\n",
       "      <td>Portland-South Portland, ME</td>\n",
       "      <td>\"Mozilla/5.0 (Macintosh; Intel Mac OS X 10_9_4...</td>\n",
       "    </tr>\n",
       "    <tr>\n",
       "      <th>3</th>\n",
       "      <td>566935683072</td>\n",
       "      <td>2018-11-19 09:14:20.796</td>\n",
       "      <td>24</td>\n",
       "      <td>paid</td>\n",
       "      <td>SOGDBUF12A8C140FAA</td>\n",
       "      <td>AR558FS1187FB45658</td>\n",
       "      <td>672</td>\n",
       "      <td>Lake Havasu City-Kingman, AZ</td>\n",
       "      <td>\"Mozilla/5.0 (Windows NT 6.1; WOW64) AppleWebK...</td>\n",
       "    </tr>\n",
       "  </tbody>\n",
       "</table>\n",
       "</div>"
      ],
      "text/plain": [
       "     songplay_id              start_time user_id level             song_id  \\\n",
       "0   403726925824 2018-11-21 21:56:47.796      15  paid  SOZCTXZ12AB0182364   \n",
       "1   128849018880 2018-11-14 05:06:03.796      10  free  SOGDBUF12A8C140FAA   \n",
       "2  1529008357376 2018-11-27 22:35:59.796      80  paid  SOGDBUF12A8C140FAA   \n",
       "3   566935683072 2018-11-19 09:14:20.796      24  paid  SOGDBUF12A8C140FAA   \n",
       "\n",
       "            artist_id  session_id  \\\n",
       "0  AR5KOSW1187FB35FF4         818   \n",
       "1  AR558FS1187FB45658         484   \n",
       "2  AR558FS1187FB45658         992   \n",
       "3  AR558FS1187FB45658         672   \n",
       "\n",
       "                                       location  \\\n",
       "0            Chicago-Naperville-Elgin, IL-IN-WI   \n",
       "1  Washington-Arlington-Alexandria, DC-VA-MD-WV   \n",
       "2                   Portland-South Portland, ME   \n",
       "3                  Lake Havasu City-Kingman, AZ   \n",
       "\n",
       "                                          user_agent  \n",
       "0  \"Mozilla/5.0 (X11; Linux x86_64) AppleWebKit/5...  \n",
       "1  \"Mozilla/5.0 (Macintosh; Intel Mac OS X 10_9_4...  \n",
       "2  \"Mozilla/5.0 (Macintosh; Intel Mac OS X 10_9_4...  \n",
       "3  \"Mozilla/5.0 (Windows NT 6.1; WOW64) AppleWebK...  "
      ]
     },
     "execution_count": 7,
     "metadata": {},
     "output_type": "execute_result"
    }
   ],
   "source": [
    "\n",
    "####################### Read parquet file for songplays ##################\n",
    "output_data = config.get('LOCAL_DATA', 'OUTPUT')\n",
    "print('output_data : ' + output_data)\n",
    "\n",
    "songplays_data_df = spark.read.parquet(os.path.join(output_data, 'songplays'))\n",
    "\n",
    "print ('Number of songPlays Table rows : ' + str(songplays_data_df.count()))                                                   \n",
    "\n",
    "songplays_data_df = spark.read.parquet(os.path.join(output_data, 'songplays/year=2018/month=11/*.parquet'))\n",
    "\n",
    "songplays_data_df.limit(5).toPandas()"
   ]
  },
  {
   "cell_type": "code",
   "execution_count": 8,
   "metadata": {
    "editable": true
   },
   "outputs": [
    {
     "name": "stdout",
     "output_type": "stream",
     "text": [
      "Number of artists Table rows : 69\n"
     ]
    },
    {
     "data": {
      "text/html": [
       "<div>\n",
       "<style scoped>\n",
       "    .dataframe tbody tr th:only-of-type {\n",
       "        vertical-align: middle;\n",
       "    }\n",
       "\n",
       "    .dataframe tbody tr th {\n",
       "        vertical-align: top;\n",
       "    }\n",
       "\n",
       "    .dataframe thead th {\n",
       "        text-align: right;\n",
       "    }\n",
       "</style>\n",
       "<table border=\"1\" class=\"dataframe\">\n",
       "  <thead>\n",
       "    <tr style=\"text-align: right;\">\n",
       "      <th></th>\n",
       "      <th>artist_id</th>\n",
       "      <th>name</th>\n",
       "      <th>location</th>\n",
       "      <th>latitude</th>\n",
       "      <th>longitude</th>\n",
       "    </tr>\n",
       "  </thead>\n",
       "  <tbody>\n",
       "    <tr>\n",
       "      <th>0</th>\n",
       "      <td>ARNF6401187FB57032</td>\n",
       "      <td>Sophie B. Hawkins</td>\n",
       "      <td>New York, NY [Manhattan]</td>\n",
       "      <td>40.79086</td>\n",
       "      <td>-73.96644</td>\n",
       "    </tr>\n",
       "    <tr>\n",
       "      <th>1</th>\n",
       "      <td>AROUOZZ1187B9ABE51</td>\n",
       "      <td>Willie Bobo</td>\n",
       "      <td>New York, NY [Spanish Harlem]</td>\n",
       "      <td>40.79195</td>\n",
       "      <td>-73.94512</td>\n",
       "    </tr>\n",
       "    <tr>\n",
       "      <th>2</th>\n",
       "      <td>AREBBGV1187FB523D2</td>\n",
       "      <td>Mike Jones (Featuring CJ_ Mello &amp; Lil' Bran)</td>\n",
       "      <td>Houston, TX</td>\n",
       "      <td>NaN</td>\n",
       "      <td>NaN</td>\n",
       "    </tr>\n",
       "    <tr>\n",
       "      <th>3</th>\n",
       "      <td>ARD842G1187B997376</td>\n",
       "      <td>Blue Rodeo</td>\n",
       "      <td>Toronto, Ontario, Canada</td>\n",
       "      <td>43.64856</td>\n",
       "      <td>-79.38533</td>\n",
       "    </tr>\n",
       "    <tr>\n",
       "      <th>4</th>\n",
       "      <td>AR9AWNF1187B9AB0B4</td>\n",
       "      <td>Kenny G featuring Daryl Hall</td>\n",
       "      <td>Seattle, Washington USA</td>\n",
       "      <td>NaN</td>\n",
       "      <td>NaN</td>\n",
       "    </tr>\n",
       "  </tbody>\n",
       "</table>\n",
       "</div>"
      ],
      "text/plain": [
       "            artist_id                                          name  \\\n",
       "0  ARNF6401187FB57032                             Sophie B. Hawkins   \n",
       "1  AROUOZZ1187B9ABE51                                   Willie Bobo   \n",
       "2  AREBBGV1187FB523D2  Mike Jones (Featuring CJ_ Mello & Lil' Bran)   \n",
       "3  ARD842G1187B997376                                    Blue Rodeo   \n",
       "4  AR9AWNF1187B9AB0B4                  Kenny G featuring Daryl Hall   \n",
       "\n",
       "                        location  latitude  longitude  \n",
       "0       New York, NY [Manhattan]  40.79086  -73.96644  \n",
       "1  New York, NY [Spanish Harlem]  40.79195  -73.94512  \n",
       "2                    Houston, TX       NaN        NaN  \n",
       "3       Toronto, Ontario, Canada  43.64856  -79.38533  \n",
       "4        Seattle, Washington USA       NaN        NaN  "
      ]
     },
     "execution_count": 8,
     "metadata": {},
     "output_type": "execute_result"
    }
   ],
   "source": [
    "########################## Read artists table ######################################### \n",
    "artists_data_df = spark.read.parquet(os.path.join(output_data, 'artists/*.parquet'))\n",
    "print('Number of artists Table rows : ' + str(artists_data_df.count()))\n",
    "\n",
    "artists_data_df.limit(5).toPandas()"
   ]
  },
  {
   "cell_type": "code",
   "execution_count": 9,
   "metadata": {
    "editable": true
   },
   "outputs": [
    {
     "name": "stdout",
     "output_type": "stream",
     "text": [
      "All Time columns\n"
     ]
    },
    {
     "data": {
      "text/html": [
       "<div>\n",
       "<style scoped>\n",
       "    .dataframe tbody tr th:only-of-type {\n",
       "        vertical-align: middle;\n",
       "    }\n",
       "\n",
       "    .dataframe tbody tr th {\n",
       "        vertical-align: top;\n",
       "    }\n",
       "\n",
       "    .dataframe thead th {\n",
       "        text-align: right;\n",
       "    }\n",
       "</style>\n",
       "<table border=\"1\" class=\"dataframe\">\n",
       "  <thead>\n",
       "    <tr style=\"text-align: right;\">\n",
       "      <th></th>\n",
       "      <th>start_time</th>\n",
       "      <th>hour</th>\n",
       "      <th>day</th>\n",
       "      <th>week</th>\n",
       "      <th>weekday</th>\n",
       "      <th>year</th>\n",
       "      <th>month</th>\n",
       "    </tr>\n",
       "  </thead>\n",
       "  <tbody>\n",
       "    <tr>\n",
       "      <th>0</th>\n",
       "      <td>2018-11-15 00:30:26.796</td>\n",
       "      <td>0</td>\n",
       "      <td>15</td>\n",
       "      <td>46</td>\n",
       "      <td>5</td>\n",
       "      <td>2018</td>\n",
       "      <td>11</td>\n",
       "    </tr>\n",
       "    <tr>\n",
       "      <th>1</th>\n",
       "      <td>2018-11-15 00:41:21.796</td>\n",
       "      <td>0</td>\n",
       "      <td>15</td>\n",
       "      <td>46</td>\n",
       "      <td>5</td>\n",
       "      <td>2018</td>\n",
       "      <td>11</td>\n",
       "    </tr>\n",
       "    <tr>\n",
       "      <th>2</th>\n",
       "      <td>2018-11-15 00:45:41.796</td>\n",
       "      <td>0</td>\n",
       "      <td>15</td>\n",
       "      <td>46</td>\n",
       "      <td>5</td>\n",
       "      <td>2018</td>\n",
       "      <td>11</td>\n",
       "    </tr>\n",
       "    <tr>\n",
       "      <th>3</th>\n",
       "      <td>2018-11-15 03:44:09.796</td>\n",
       "      <td>3</td>\n",
       "      <td>15</td>\n",
       "      <td>46</td>\n",
       "      <td>5</td>\n",
       "      <td>2018</td>\n",
       "      <td>11</td>\n",
       "    </tr>\n",
       "    <tr>\n",
       "      <th>4</th>\n",
       "      <td>2018-11-15 05:48:55.796</td>\n",
       "      <td>5</td>\n",
       "      <td>15</td>\n",
       "      <td>46</td>\n",
       "      <td>5</td>\n",
       "      <td>2018</td>\n",
       "      <td>11</td>\n",
       "    </tr>\n",
       "  </tbody>\n",
       "</table>\n",
       "</div>"
      ],
      "text/plain": [
       "               start_time  hour  day  week  weekday  year  month\n",
       "0 2018-11-15 00:30:26.796     0   15    46        5  2018     11\n",
       "1 2018-11-15 00:41:21.796     0   15    46        5  2018     11\n",
       "2 2018-11-15 00:45:41.796     0   15    46        5  2018     11\n",
       "3 2018-11-15 03:44:09.796     3   15    46        5  2018     11\n",
       "4 2018-11-15 05:48:55.796     5   15    46        5  2018     11"
      ]
     },
     "execution_count": 9,
     "metadata": {},
     "output_type": "execute_result"
    }
   ],
   "source": [
    "################################################ Read Time table ############################################# \n",
    "print ('All Time columns')\n",
    "time_df = spark.read.parquet(os.path.join(output_data, 'time'))\n",
    "time_df.limit(5).toPandas()"
   ]
  },
  {
   "cell_type": "code",
   "execution_count": 10,
   "metadata": {
    "editable": true
   },
   "outputs": [
    {
     "name": "stdout",
     "output_type": "stream",
     "text": [
      "Time columns for year 2018\n",
      "Number of Time Table rows : 6820\n"
     ]
    },
    {
     "data": {
      "text/html": [
       "<div>\n",
       "<style scoped>\n",
       "    .dataframe tbody tr th:only-of-type {\n",
       "        vertical-align: middle;\n",
       "    }\n",
       "\n",
       "    .dataframe tbody tr th {\n",
       "        vertical-align: top;\n",
       "    }\n",
       "\n",
       "    .dataframe thead th {\n",
       "        text-align: right;\n",
       "    }\n",
       "</style>\n",
       "<table border=\"1\" class=\"dataframe\">\n",
       "  <thead>\n",
       "    <tr style=\"text-align: right;\">\n",
       "      <th></th>\n",
       "      <th>start_time</th>\n",
       "      <th>hour</th>\n",
       "      <th>day</th>\n",
       "      <th>week</th>\n",
       "      <th>weekday</th>\n",
       "    </tr>\n",
       "  </thead>\n",
       "  <tbody>\n",
       "    <tr>\n",
       "      <th>0</th>\n",
       "      <td>2018-11-15 00:30:26.796</td>\n",
       "      <td>0</td>\n",
       "      <td>15</td>\n",
       "      <td>46</td>\n",
       "      <td>5</td>\n",
       "    </tr>\n",
       "    <tr>\n",
       "      <th>1</th>\n",
       "      <td>2018-11-15 00:41:21.796</td>\n",
       "      <td>0</td>\n",
       "      <td>15</td>\n",
       "      <td>46</td>\n",
       "      <td>5</td>\n",
       "    </tr>\n",
       "    <tr>\n",
       "      <th>2</th>\n",
       "      <td>2018-11-15 00:45:41.796</td>\n",
       "      <td>0</td>\n",
       "      <td>15</td>\n",
       "      <td>46</td>\n",
       "      <td>5</td>\n",
       "    </tr>\n",
       "    <tr>\n",
       "      <th>3</th>\n",
       "      <td>2018-11-15 03:44:09.796</td>\n",
       "      <td>3</td>\n",
       "      <td>15</td>\n",
       "      <td>46</td>\n",
       "      <td>5</td>\n",
       "    </tr>\n",
       "    <tr>\n",
       "      <th>4</th>\n",
       "      <td>2018-11-15 05:48:55.796</td>\n",
       "      <td>5</td>\n",
       "      <td>15</td>\n",
       "      <td>46</td>\n",
       "      <td>5</td>\n",
       "    </tr>\n",
       "  </tbody>\n",
       "</table>\n",
       "</div>"
      ],
      "text/plain": [
       "               start_time  hour  day  week  weekday\n",
       "0 2018-11-15 00:30:26.796     0   15    46        5\n",
       "1 2018-11-15 00:41:21.796     0   15    46        5\n",
       "2 2018-11-15 00:45:41.796     0   15    46        5\n",
       "3 2018-11-15 03:44:09.796     3   15    46        5\n",
       "4 2018-11-15 05:48:55.796     5   15    46        5"
      ]
     },
     "execution_count": 10,
     "metadata": {},
     "output_type": "execute_result"
    }
   ],
   "source": [
    "print ('Time columns for year 2018')\n",
    "time_data_df = spark.read.parquet(os.path.join(output_data, 'time/year=2018/month=*/*.parquet'))\n",
    "print ('Number of Time Table rows : ' + str(time_data_df.count()))\n",
    "\n",
    "time_data_df.limit(5).toPandas()"
   ]
  },
  {
   "cell_type": "code",
   "execution_count": 11,
   "metadata": {
    "editable": true
   },
   "outputs": [
    {
     "name": "stdout",
     "output_type": "stream",
     "text": [
      "Number of Users Table rows : 104\n",
      "+-----+------+-----+\n",
      "|level|gender|count|\n",
      "+-----+------+-----+\n",
      "| free|     M|   37|\n",
      "| paid|     M|    7|\n",
      "| paid|     F|   15|\n",
      "| free|     F|   45|\n",
      "+-----+------+-----+\n",
      "\n"
     ]
    }
   ],
   "source": [
    "################################################## Read Users table ###################################################\n",
    "users_data_df = spark.read.parquet(os.path.join(output_data, 'users/*.parquet'))\n",
    "print ('Number of Users Table rows : ' + str(users_data_df.count()))\n",
    "\n",
    "# display paid and free users by gender\n",
    "users_data_df.groupby('level', 'gender').count().show()"
   ]
  },
  {
   "cell_type": "code",
   "execution_count": 12,
   "metadata": {
    "editable": true
   },
   "outputs": [
    {
     "name": "stdout",
     "output_type": "stream",
     "text": [
      "output_data : data/output/\n",
      "Number of SongPlays Table rows : 4\n"
     ]
    },
    {
     "data": {
      "text/html": [
       "<div>\n",
       "<style scoped>\n",
       "    .dataframe tbody tr th:only-of-type {\n",
       "        vertical-align: middle;\n",
       "    }\n",
       "\n",
       "    .dataframe tbody tr th {\n",
       "        vertical-align: top;\n",
       "    }\n",
       "\n",
       "    .dataframe thead th {\n",
       "        text-align: right;\n",
       "    }\n",
       "</style>\n",
       "<table border=\"1\" class=\"dataframe\">\n",
       "  <thead>\n",
       "    <tr style=\"text-align: right;\">\n",
       "      <th></th>\n",
       "      <th>songplay_id</th>\n",
       "      <th>start_time</th>\n",
       "      <th>user_id</th>\n",
       "      <th>level</th>\n",
       "      <th>song_id</th>\n",
       "      <th>artist_id</th>\n",
       "      <th>session_id</th>\n",
       "      <th>location</th>\n",
       "      <th>user_agent</th>\n",
       "    </tr>\n",
       "  </thead>\n",
       "  <tbody>\n",
       "    <tr>\n",
       "      <th>0</th>\n",
       "      <td>403726925824</td>\n",
       "      <td>2018-11-21 21:56:47.796</td>\n",
       "      <td>15</td>\n",
       "      <td>paid</td>\n",
       "      <td>SOZCTXZ12AB0182364</td>\n",
       "      <td>AR5KOSW1187FB35FF4</td>\n",
       "      <td>818</td>\n",
       "      <td>Chicago-Naperville-Elgin, IL-IN-WI</td>\n",
       "      <td>\"Mozilla/5.0 (X11; Linux x86_64) AppleWebKit/5...</td>\n",
       "    </tr>\n",
       "    <tr>\n",
       "      <th>1</th>\n",
       "      <td>128849018880</td>\n",
       "      <td>2018-11-14 05:06:03.796</td>\n",
       "      <td>10</td>\n",
       "      <td>free</td>\n",
       "      <td>SOGDBUF12A8C140FAA</td>\n",
       "      <td>AR558FS1187FB45658</td>\n",
       "      <td>484</td>\n",
       "      <td>Washington-Arlington-Alexandria, DC-VA-MD-WV</td>\n",
       "      <td>\"Mozilla/5.0 (Macintosh; Intel Mac OS X 10_9_4...</td>\n",
       "    </tr>\n",
       "    <tr>\n",
       "      <th>2</th>\n",
       "      <td>1529008357376</td>\n",
       "      <td>2018-11-27 22:35:59.796</td>\n",
       "      <td>80</td>\n",
       "      <td>paid</td>\n",
       "      <td>SOGDBUF12A8C140FAA</td>\n",
       "      <td>AR558FS1187FB45658</td>\n",
       "      <td>992</td>\n",
       "      <td>Portland-South Portland, ME</td>\n",
       "      <td>\"Mozilla/5.0 (Macintosh; Intel Mac OS X 10_9_4...</td>\n",
       "    </tr>\n",
       "    <tr>\n",
       "      <th>3</th>\n",
       "      <td>566935683072</td>\n",
       "      <td>2018-11-19 09:14:20.796</td>\n",
       "      <td>24</td>\n",
       "      <td>paid</td>\n",
       "      <td>SOGDBUF12A8C140FAA</td>\n",
       "      <td>AR558FS1187FB45658</td>\n",
       "      <td>672</td>\n",
       "      <td>Lake Havasu City-Kingman, AZ</td>\n",
       "      <td>\"Mozilla/5.0 (Windows NT 6.1; WOW64) AppleWebK...</td>\n",
       "    </tr>\n",
       "  </tbody>\n",
       "</table>\n",
       "</div>"
      ],
      "text/plain": [
       "     songplay_id              start_time user_id level             song_id  \\\n",
       "0   403726925824 2018-11-21 21:56:47.796      15  paid  SOZCTXZ12AB0182364   \n",
       "1   128849018880 2018-11-14 05:06:03.796      10  free  SOGDBUF12A8C140FAA   \n",
       "2  1529008357376 2018-11-27 22:35:59.796      80  paid  SOGDBUF12A8C140FAA   \n",
       "3   566935683072 2018-11-19 09:14:20.796      24  paid  SOGDBUF12A8C140FAA   \n",
       "\n",
       "            artist_id  session_id  \\\n",
       "0  AR5KOSW1187FB35FF4         818   \n",
       "1  AR558FS1187FB45658         484   \n",
       "2  AR558FS1187FB45658         992   \n",
       "3  AR558FS1187FB45658         672   \n",
       "\n",
       "                                       location  \\\n",
       "0            Chicago-Naperville-Elgin, IL-IN-WI   \n",
       "1  Washington-Arlington-Alexandria, DC-VA-MD-WV   \n",
       "2                   Portland-South Portland, ME   \n",
       "3                  Lake Havasu City-Kingman, AZ   \n",
       "\n",
       "                                          user_agent  \n",
       "0  \"Mozilla/5.0 (X11; Linux x86_64) AppleWebKit/5...  \n",
       "1  \"Mozilla/5.0 (Macintosh; Intel Mac OS X 10_9_4...  \n",
       "2  \"Mozilla/5.0 (Macintosh; Intel Mac OS X 10_9_4...  \n",
       "3  \"Mozilla/5.0 (Windows NT 6.1; WOW64) AppleWebK...  "
      ]
     },
     "execution_count": 12,
     "metadata": {},
     "output_type": "execute_result"
    }
   ],
   "source": [
    "################################# to read songplays table  ############################################\n",
    "#df_songplays = sqlContext.read.parquet('data/output/songplays')\n",
    "\n",
    "output_data = config.get('LOCAL_DATA', 'OUTPUT')\n",
    "print('output_data : ' + output_data)\n",
    "\n",
    "songplays_data_df = spark.read.parquet(os.path.join(output_data, 'songplays/year=2018/month=*/*.parquet'))\n",
    "\n",
    "print ('Number of SongPlays Table rows : ' + str(songplays_data_df.count()))\n",
    "\n",
    "songplays_data_df.limit(10).toPandas()"
   ]
  },
  {
   "cell_type": "code",
   "execution_count": 13,
   "metadata": {
    "editable": true
   },
   "outputs": [
    {
     "name": "stdout",
     "output_type": "stream",
     "text": [
      "+------------------+-----+\n",
      "|           song_id|count|\n",
      "+------------------+-----+\n",
      "|SOZCTXZ12AB0182364|    1|\n",
      "|SOGDBUF12A8C140FAA|    3|\n",
      "+------------------+-----+\n",
      "\n",
      "Display song_ids in songplays for the year 2018\n",
      "              song_id  count\n",
      "0  SOZCTXZ12AB0182364      1\n",
      "1  SOGDBUF12A8C140FAA      3\n"
     ]
    }
   ],
   "source": [
    "songplays_data_df.groupBy('song_id').count().show()\n",
    "print ('Display song_ids in songplays for the year 2018')\n",
    "pdsplay = songplays_data_df.groupBy('song_id').count().toPandas()\n",
    "print (pdsplay)"
   ]
  },
  {
   "cell_type": "code",
   "execution_count": 14,
   "metadata": {
    "editable": true
   },
   "outputs": [],
   "source": [
    "#print ('Display song_id associated with free and paid levels for the year 2018')\n",
    "#songplays_data_df.groupBy('song_id', 'level').count().show()"
   ]
  },
  {
   "cell_type": "code",
   "execution_count": 15,
   "metadata": {
    "editable": true
   },
   "outputs": [
    {
     "name": "stdout",
     "output_type": "stream",
     "text": [
      "              song_id level  count\n",
      "0  SOGDBUF12A8C140FAA  paid      2\n",
      "1  SOZCTXZ12AB0182364  paid      1\n",
      "2  SOGDBUF12A8C140FAA  free      1\n"
     ]
    },
    {
     "data": {
      "text/html": [
       "<div>\n",
       "<style scoped>\n",
       "    .dataframe tbody tr th:only-of-type {\n",
       "        vertical-align: middle;\n",
       "    }\n",
       "\n",
       "    .dataframe tbody tr th {\n",
       "        vertical-align: top;\n",
       "    }\n",
       "\n",
       "    .dataframe thead th {\n",
       "        text-align: right;\n",
       "    }\n",
       "</style>\n",
       "<table border=\"1\" class=\"dataframe\">\n",
       "  <thead>\n",
       "    <tr style=\"text-align: right;\">\n",
       "      <th></th>\n",
       "      <th>song_id</th>\n",
       "      <th>level</th>\n",
       "      <th>count</th>\n",
       "    </tr>\n",
       "  </thead>\n",
       "  <tbody>\n",
       "    <tr>\n",
       "      <th>0</th>\n",
       "      <td>SOGDBUF12A8C140FAA</td>\n",
       "      <td>paid</td>\n",
       "      <td>2</td>\n",
       "    </tr>\n",
       "    <tr>\n",
       "      <th>2</th>\n",
       "      <td>SOGDBUF12A8C140FAA</td>\n",
       "      <td>free</td>\n",
       "      <td>1</td>\n",
       "    </tr>\n",
       "    <tr>\n",
       "      <th>1</th>\n",
       "      <td>SOZCTXZ12AB0182364</td>\n",
       "      <td>paid</td>\n",
       "      <td>1</td>\n",
       "    </tr>\n",
       "  </tbody>\n",
       "</table>\n",
       "</div>"
      ],
      "text/plain": [
       "              song_id level  count\n",
       "0  SOGDBUF12A8C140FAA  paid      2\n",
       "2  SOGDBUF12A8C140FAA  free      1\n",
       "1  SOZCTXZ12AB0182364  paid      1"
      ]
     },
     "execution_count": 15,
     "metadata": {},
     "output_type": "execute_result"
    }
   ],
   "source": [
    "pdsplay1 = songplays_data_df.groupBy('song_id', 'level').count().toPandas()\n",
    "print (pdsplay1)\n",
    "\n",
    "pdsplay1.sort_values(by='song_id', ascending=True, inplace=False, na_position='last')"
   ]
  }
 ],
 "metadata": {
  "kernelspec": {
   "display_name": "Python 3",
   "language": "python",
   "name": "python3"
  },
  "language_info": {
   "codemirror_mode": {
    "name": "ipython",
    "version": 3
   },
   "file_extension": ".py",
   "mimetype": "text/x-python",
   "name": "python",
   "nbconvert_exporter": "python",
   "pygments_lexer": "ipython3",
   "version": "3.6.3"
  }
 },
 "nbformat": 4,
 "nbformat_minor": 4
}
